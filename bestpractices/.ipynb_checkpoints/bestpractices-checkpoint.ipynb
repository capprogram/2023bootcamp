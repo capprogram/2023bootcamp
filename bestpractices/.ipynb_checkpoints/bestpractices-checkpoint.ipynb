{
 "cells": [
  {
   "cell_type": "markdown",
   "metadata": {},
   "source": [
    "# Programming Best Practices and the Central Limit Theorem\n",
    "\n",
    "This tutorial is intended to provide practice in debugging, speed optimization, and spotting bad habits in programming. The template code provided below runs, but is deeply flawed. Your goal is to improve the code following programming best practices, and along the way you'll learn something about the Central Limit Theorem.\n",
    "\n",
    "Author: Sheila Kannappan\n",
    "Last Modified: June 2021"
   ]
  },
  {
   "cell_type": "markdown",
   "metadata": {},
   "source": [
    "##### Note: If this notebook becomes unresponsive, try going to the top-right where it should say \"Python 3\" and re-selecting the Python 3 kernel. "
   ]
  },
  {
   "cell_type": "code",
   "execution_count": null,
   "metadata": {},
   "outputs": [],
   "source": [
    "# ipython \"magics\" to enable static plot output directly to notebook and automatic reimport of modified imported code\n",
    "%matplotlib inline\n",
    "%load_ext autoreload\n",
    "%autoreload 2"
   ]
  },
  {
   "cell_type": "markdown",
   "metadata": {},
   "source": [
    "## A Little Background on Programming Best Practices\n",
    "\n",
    "### Goals\n",
    "\n",
    "* Easy debugging\n",
    "* Easy modification\n",
    "* Understandability (now, after passage of time, and to another person)\n",
    "* Speed\n",
    "\n",
    "### Strategies\n",
    "* Plan – consider likely rate-limiting steps and best methodology before starting\n",
    "* Modularize – test subcomponents and use branches in Git\n",
    "* Check variable values, types, array sizes by hand (print statements or interrupted run)\n",
    "* Don’t assume “running” = “working”; brainstorm sanity checks\n",
    "* Use meaningful variable names (more than one letter!) that are not too similar\n",
    "* Keep standard defaults: e.g. i, j reserved for integer loop counters\n",
    "* Replace hardwired numbers with constant names at top of code or even in separate file\n",
    "* Write comments (including to bookend command sets, e.g. in if-then)\n",
    "* Take advantage of helpful visual appearance: white space, syntax highlighting\n",
    "* Avoid loops when unnecessary (possible tradeoff with understandability)\n",
    "* Manage I/O and memory; eliminate large arrays when no longer needed\n",
    "* Use print and system time statements to find out where code fails/slows\n",
    "\n",
    "### Python-specific tips\n",
    "* don't define a function in the middle of a program, even though python lets you -- doing so muddles whether variables are defined locally or globally\n",
    "* don't use lists when you can use numpy arrays, and especially don't append elements to dynamically build lists, unless you want glacially slow code\n",
    "* pay attention to white space, it has syntactical meaning! and as a corollary, don't use tabs as white space\n",
    "* standard indentation of code levels is 4 spaces (this is a matter of preference, but standardizing is essential when collaborating)\n",
    "* protected code: it's generally a bad idea to import a script -- it will run at the time of import! you can use the \"def main\" protocol to create a \"protected\" code if you want your code to be both callable like a script and importable like a package\n",
    "\n",
    "### Slight Digression: How to Write Protected Code\n",
    "To understand how to write protected code, compare `templatecode.py` and `templatecodeprotected.py` in side-by-side Jupyter Lab windows (outside this notebook). For more information on writing importable modules and packages, consult [this link](https://en.wikibooks.org/wiki/Python_Programming/Modules)."
   ]
  },
  {
   "cell_type": "markdown",
   "metadata": {},
   "source": [
    "## A Little Background on the Central Limit Theorem\n",
    "\n",
    "Just for fun, the code for this tutorial will explore the Central Limit Theorem by comparing Poisson distributions with Gaussian distributions. A \"distribution\" is a function giving the probabilities (plotted on the y axis) associated with different outcomes (values of x), so the whole function integrates to the sum of all possible probabilities: 1.\n",
    "\n",
    "An example of a Poisson process is counting the # of people who use the gym per hour where the count is run for a period of time nhr (set to = different times). We assume the underlying average users per hour U is fixed but the counts have \"Poisson fluctuations\" so N = nhr x U specifies the *expected* count (the mean of the theoretical Poisson distribution) not the observed count Nobs, whose possible values have different probabilities following a Poisson distribution with mean N. (In fact nhr may need to be very large for N to exactly equal Nobs, because Nobs is by definition an integer, but U is by definition a real number.)\n",
    "\n",
    "Statistical theory tells us that for a Poisson process, the observed count Nobs fluctuates around the true theoretical mean N with a 68% confidence interval of +-sqrt(N) for \"large N\". The sleight of hand of statistics is to use the observed data to estimate N as Nobs and likewise estimate the 68% confidence interval as +-sqrt(Nobs). Thus the estimated fractional error in the count is fracerr = sqrt(Nobs)/Nobs = 1/sqrt(Nobs). The 1/sqrt explains why we get a  better estimate of U by running the count for 10 hours rather than 1 hour. However in the code we will not use data but simply compare the theoretical distributions while increasing N (or equivalently, increasing nhr).\n",
    "\n",
    "According to the Central Limit Theorem, as we increase N, the Poisson distribution should start to look like a Gaussian. Therefore we will plot the Poisson distribution for increasing N and overplot Gaussians with the same mean N and 68% confidence interval +-sqrt(N), to see how quickly the Poisson shape approaches a Gaussian shape (i.e., to determine when we reach the \"large N\" limit)."
   ]
  },
  {
   "cell_type": "markdown",
   "metadata": {},
   "source": [
    "## Task 1: Debugging\n",
    "\n",
    "The cell below asks you to edit the templatecodeprotected.py script to debug it. To edit it, simply double-click on it in the list of files on the left tab, make your edits when it opens, then save it by pressing Ctrl+s or saving via the \"File\" tab at the top-left of the window. \n",
    "<br><br>\n",
    "Your challenge: a bug is crashing the code. Try to find it using the python debugger module \"pdb\" as described in the tutorial [here](https://github.com/capprogram/2023bootcamp/blob/master/bestpractices/Debugging_in_Python_Python_Conquers_The_Universe.pdf) The template code is so short that pdb is not really necessary to debug it, but use pdb anyway just to get the experience for future reference. Check the size and contents of the variables at each step to determine whether they make sense. Useful commands include print, len(), np.size() and .shape(). Look at the output to see if it makes sense. Just because a code stops crashing doesn't mean it is doing what you want. Additionally, be sure that the functions you are using are fed the proper inputs. You can look up the documentation for functions from modules (such as numpy, matplotlib, etc) online.\n",
    "<br><br>\n",
    "Note: It is necessary to type \"q\" to get out of pdb before you edit and re-run the code each time."
   ]
  },
  {
   "cell_type": "code",
   "execution_count": null,
   "metadata": {},
   "outputs": [],
   "source": [
    "# copy templatecodeprotected.py to templatecodeprotected_mod.py so you can compare the original to your modified version\n",
    "# edit templatecodeprotected_mod.py outside this notebook and re-run this cell until the bugs are gone\n",
    "%run templatecodeprotected_mod"
   ]
  },
  {
   "cell_type": "markdown",
   "metadata": {},
   "source": [
    "## Task 2: Speed-Up\n",
    "\n",
    "We don't always want to optimize code speed -- sometimes it's just not important -- but you should be in the habit of avoiding silly things that slow your code down, like unnecessary loops or math operations. Measure the time taken by the whole template code as well as smaller parts of the template code and try to find inefficiencies. When you find a slow step, ask yourself whether it could be faster, and whether it matters (is it the rate-limiting step?). For now, fix it even if it's not the rate-limiting step, just for practice. Overall, you should be able to speed up this code by about a factor of 10. \n",
    "\n",
    "Here are two approaches to timing code:\n",
    "\n",
    "1) You can try using the system clock via the `time` module. The times you derive with the system clock will be affected by delays from unrelated processes running in the background, but the clock is still handy for obtaining multiple timestamps to identify the bottlenecks in your code. For example, *in the templatecodeprotected_mod.py file*:\n",
    "\n",
    "    ~~~\n",
    "    import numpy as np\n",
    "    import time\n",
    "\n",
    "    init_time = time.perf_counter()  # start clock\n",
    "    x = np.linspace(0,100,1000000)\n",
    "    y = np.sqrt(x)\n",
    "\n",
    "    elap_time = time.perf_counter() - init_time  # finds difference\n",
    "\n",
    "    print(\"Time elapsed after linspace and sqrt commands is %0.3f ms\" % (elap_time*1000))  # converts to ms\n",
    "    ~~~\n",
    "\n",
    "2) You can try using the [`%timeit`](https://ipython.org/ipython-doc/3/interactive/magics.html#magic-timeit) magic. `%timeit` is more accurate than the `time` module, but `%timeit` can only be used to time the entire code all at once. __You will need to import the protected version of the code if you want to run %timeit on it__, but you won't need to re-import because we set the %autoreload magic in the first cell of this notebook. Therefore, put the import command in a separate cell from the cell where you run %timeit repeatedly. For example, *in this notebook*:\n",
    "\n",
    "    ~~~\n",
    "    import templatecodeprotected_mod\n",
    "    ~~~\n",
    "\n",
    "    ~~~\n",
    "    %timeit -n6 -r6 templatecodeprotected_mod.main()\n",
    "    ~~~\n"
   ]
  },
  {
   "cell_type": "code",
   "execution_count": null,
   "metadata": {},
   "outputs": [],
   "source": [
    "# Before making any changes, make a reference copy of templatecodeprotected_mod.py called \"templatecodeprotected_slow.py\" \n",
    "# and get a baseline time (this will vary with hardware, operating system, and what else is running).\n",
    "import templatecodeslow"
   ]
  },
  {
   "cell_type": "code",
   "execution_count": null,
   "metadata": {},
   "outputs": [],
   "source": [
    "%timeit -n6 -r6 templatecodeslow.main()"
   ]
  },
  {
   "cell_type": "code",
   "execution_count": null,
   "metadata": {},
   "outputs": [],
   "source": [
    "# Now edit templatecodeprotected_mod.py outside this notebook and try to figure out what parts of it take the most time.\n",
    "# Use the time module with print statements to check elapsed times at various points.\n",
    "%run templatecodeprotected_mod"
   ]
  },
  {
   "cell_type": "code",
   "execution_count": null,
   "metadata": {},
   "outputs": [],
   "source": [
    "# Once you think you have made the code faster, use %timeit to check your work. \n",
    "import templatecodeprotected_mod"
   ]
  },
  {
   "cell_type": "code",
   "execution_count": null,
   "metadata": {},
   "outputs": [],
   "source": [
    "%timeit -n6 -r6 templatecodeprotected_mod.main()"
   ]
  },
  {
   "cell_type": "markdown",
   "metadata": {},
   "source": [
    "### Slight Digression: timeit outside ipython\n",
    "By the way, even when you're not working in ipython, you can time code using [`timeit.py`](https://docs.python.org/3/library/timeit.html). For example the following times the function \"test\": \n",
    "\n",
    "    ~~~\n",
    "    def test():\n",
    "        \"\"\"Stupid test function\"\"\"\n",
    "        L = []\n",
    "        for i in range(100):\n",
    "            L.append(i)\n",
    "\n",
    "    if __name__ == '__main__':\n",
    "        import timeit\n",
    "        print(timeit.timeit(\"test()\", setup=\"from __main__ import test\"))\n",
    "    ~~~"
   ]
  },
  {
   "cell_type": "markdown",
   "metadata": {},
   "source": [
    "## Task 3: Clean-Up\n",
    "Some things in the template code represent poor programming practice, even though they do not affect speed and are not bugs. Note examples and correct them."
   ]
  },
  {
   "cell_type": "code",
   "execution_count": null,
   "metadata": {},
   "outputs": [],
   "source": [
    "# copy templatecodeprotected_mod.py to templatecodeprotected_preclean.py so you can refer to the latter to see your changes\n",
    "# clean up templatecodeprotected_mod.py outside this notebook and re-run this cell as you do to make sure it still works\n",
    "%run templatecodeprotected_mod"
   ]
  },
  {
   "cell_type": "markdown",
   "metadata": {},
   "source": [
    "## Task 4: Checking Results\n",
    "Once you've got the code fixed up, you can study the plot and  to see how closely the Poisson and Gaussian distributions match each other for each value of N. If they match well, does that mean the fractional error in the observed count must be small? Explain.\n",
    "\n",
    "Use the %load magic to insert the code directly in the cell below, then rerun the cell. Uncomment the plt.xlim command to zoom in on different parts of the plot."
   ]
  },
  {
   "cell_type": "code",
   "execution_count": null,
   "metadata": {},
   "outputs": [],
   "source": [
    "# %load templatecodeprotected_mod\n",
    "\"\"\"\n",
    "This template code is intended to provide practice in debugging, speed \n",
    "optimization, and spotting bad habits in programming. The code runs but \n",
    "is deeply flawed. If you improve the code following all the best practices \n",
    "you know, you'll learn something about both programming and the Central \n",
    "Limit Theorem.\n",
    "\n",
    "Author: Sheila Kannappan\n",
    "Last modified: September 2019\n",
    "\"\"\"\n",
    "\n",
    "# standard imports and naming conventions; uncomment as needed\n",
    "import numpy as np              # basic numerical analysis\n",
    "import matplotlib.pyplot as plt # plotting\n",
    "import scipy.stats as stats     # statistical functions\n",
    "#import pdb                      # python debugger\n",
    "#import time                     # python timekeeper\n",
    "\n",
    "def gaussfunc(xvals, mean, sigma):\n",
    "    y = np.exp(-0.5*((((xvals-mean)/sigma)**2)))\n",
    "    norm = 1./(sigma*np.sqrt(2. * np.pi))\n",
    "    y = norm * y\n",
    "    return y\n",
    "\n",
    "def main():\n",
    "    U = 8. # underlying rate of gym users per hour \n",
    "    Nct = np.array([6, 36, 216, 1296]) # typical total number of people counted (powers of 6)\n",
    "    nhr = Nct/U # time to count this many people\n",
    "    #labelarr = [\"count for %s hr\" % ihr for ihr in nhr]\n",
    "    \n",
    "    for i in range(0, len(Nct)):\n",
    "        \n",
    "        # plot probabilities of count values for range around mean\n",
    "        mean = Nct[i]\n",
    "        maxval = 2*mean\n",
    "        xvals=np.arange(0, maxval)\n",
    "        prob = stats.poisson.pmf(xvals, mean)\n",
    "        plt.plot(xvals, prob, 'r', lw=3)\n",
    "        plt.xlabel(\"count value\")\n",
    "        plt.ylabel(\"probability\")\n",
    "        plt.xscale(\"log\")\n",
    "        sel = np.where(np.isclose(prob,max(prob)))\n",
    "        sel=sel[0][0]\n",
    "        n = xvals[sel]\n",
    "        probval = prob[sel]\n",
    "        label = \"count for %s hr\" % (nhr[i])\n",
    "        plt.text(n, probval, label)\n",
    "\n",
    "        # plot Gaussian distribution with matching mean and sigma\n",
    "        sigma=np.sqrt(mean)\n",
    "        y = gaussfunc(xvals, mean, sigma)\n",
    "        plt.plot(xvals, y, 'b')\n",
    "        #plt.xlim([,])\n",
    "    \n",
    "if __name__ == '__main__':\n",
    "    main()\n",
    "    plt.show()\n"
   ]
  }
 ],
 "metadata": {
  "kernelspec": {
   "display_name": "Python 3",
   "language": "python",
   "name": "python3"
  },
  "language_info": {
   "codemirror_mode": {
    "name": "ipython",
    "version": 3
   },
   "file_extension": ".py",
   "mimetype": "text/x-python",
   "name": "python",
   "nbconvert_exporter": "python",
   "pygments_lexer": "ipython3",
   "version": "3.8.8"
  }
 },
 "nbformat": 4,
 "nbformat_minor": 4
}
